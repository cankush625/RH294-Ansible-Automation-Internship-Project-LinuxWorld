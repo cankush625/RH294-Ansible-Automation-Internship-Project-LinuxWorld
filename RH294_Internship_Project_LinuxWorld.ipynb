{
 "cells": [
  {
   "cell_type": "code",
   "execution_count": 189,
   "metadata": {},
   "outputs": [],
   "source": [
    "import numpy as np\n",
    "import pandas as pd"
   ]
  },
  {
   "cell_type": "code",
   "execution_count": 190,
   "metadata": {},
   "outputs": [],
   "source": [
    "df = pd.read_csv('StudentsPerformance.csv')"
   ]
  },
  {
   "cell_type": "code",
   "execution_count": 191,
   "metadata": {},
   "outputs": [
    {
     "data": {
      "text/html": [
       "<div>\n",
       "<style scoped>\n",
       "    .dataframe tbody tr th:only-of-type {\n",
       "        vertical-align: middle;\n",
       "    }\n",
       "\n",
       "    .dataframe tbody tr th {\n",
       "        vertical-align: top;\n",
       "    }\n",
       "\n",
       "    .dataframe thead th {\n",
       "        text-align: right;\n",
       "    }\n",
       "</style>\n",
       "<table border=\"1\" class=\"dataframe\">\n",
       "  <thead>\n",
       "    <tr style=\"text-align: right;\">\n",
       "      <th></th>\n",
       "      <th>gender</th>\n",
       "      <th>race</th>\n",
       "      <th>parental_level_of_education</th>\n",
       "      <th>lunch</th>\n",
       "      <th>hrs_study_before_exam</th>\n",
       "      <th>test_preparation_course</th>\n",
       "      <th>total_marks</th>\n",
       "    </tr>\n",
       "  </thead>\n",
       "  <tbody>\n",
       "    <tr>\n",
       "      <td>0</td>\n",
       "      <td>female</td>\n",
       "      <td>group B</td>\n",
       "      <td>bachelor's degree</td>\n",
       "      <td>standard</td>\n",
       "      <td>6</td>\n",
       "      <td>none</td>\n",
       "      <td>218</td>\n",
       "    </tr>\n",
       "    <tr>\n",
       "      <td>1</td>\n",
       "      <td>female</td>\n",
       "      <td>group C</td>\n",
       "      <td>some college</td>\n",
       "      <td>standard</td>\n",
       "      <td>8</td>\n",
       "      <td>completed</td>\n",
       "      <td>247</td>\n",
       "    </tr>\n",
       "    <tr>\n",
       "      <td>2</td>\n",
       "      <td>female</td>\n",
       "      <td>group B</td>\n",
       "      <td>master's degree</td>\n",
       "      <td>standard</td>\n",
       "      <td>9</td>\n",
       "      <td>none</td>\n",
       "      <td>278</td>\n",
       "    </tr>\n",
       "    <tr>\n",
       "      <td>3</td>\n",
       "      <td>male</td>\n",
       "      <td>group A</td>\n",
       "      <td>associate's degree</td>\n",
       "      <td>free/reduced</td>\n",
       "      <td>8</td>\n",
       "      <td>none</td>\n",
       "      <td>278</td>\n",
       "    </tr>\n",
       "    <tr>\n",
       "      <td>4</td>\n",
       "      <td>male</td>\n",
       "      <td>group C</td>\n",
       "      <td>some college</td>\n",
       "      <td>standard</td>\n",
       "      <td>4</td>\n",
       "      <td>none</td>\n",
       "      <td>148</td>\n",
       "    </tr>\n",
       "  </tbody>\n",
       "</table>\n",
       "</div>"
      ],
      "text/plain": [
       "   gender     race parental_level_of_education         lunch  \\\n",
       "0  female  group B           bachelor's degree      standard   \n",
       "1  female  group C                some college      standard   \n",
       "2  female  group B             master's degree      standard   \n",
       "3    male  group A          associate's degree  free/reduced   \n",
       "4    male  group C                some college      standard   \n",
       "\n",
       "   hrs_study_before_exam test_preparation_course  total_marks  \n",
       "0                      6                    none          218  \n",
       "1                      8               completed          247  \n",
       "2                      9                    none          278  \n",
       "3                      8                    none          278  \n",
       "4                      4                    none          148  "
      ]
     },
     "execution_count": 191,
     "metadata": {},
     "output_type": "execute_result"
    }
   ],
   "source": [
    "df.head()"
   ]
  },
  {
   "cell_type": "code",
   "execution_count": 192,
   "metadata": {},
   "outputs": [],
   "source": [
    "y = df['total_marks']"
   ]
  },
  {
   "cell_type": "code",
   "execution_count": 193,
   "metadata": {},
   "outputs": [],
   "source": [
    "y = y.values"
   ]
  },
  {
   "cell_type": "code",
   "execution_count": 194,
   "metadata": {},
   "outputs": [],
   "source": [
    "X = df[['gender', 'test_preparation_course', 'hrs_study_before_exam']]"
   ]
  },
  {
   "cell_type": "code",
   "execution_count": 195,
   "metadata": {},
   "outputs": [
    {
     "data": {
      "text/plain": [
       "(299, 3)"
      ]
     },
     "execution_count": 195,
     "metadata": {},
     "output_type": "execute_result"
    }
   ],
   "source": [
    "X.shape"
   ]
  },
  {
   "cell_type": "code",
   "execution_count": 196,
   "metadata": {},
   "outputs": [],
   "source": [
    "X = X.values"
   ]
  },
  {
   "cell_type": "code",
   "execution_count": 197,
   "metadata": {},
   "outputs": [],
   "source": [
    "from sklearn.preprocessing import OneHotEncoder"
   ]
  },
  {
   "cell_type": "code",
   "execution_count": 198,
   "metadata": {},
   "outputs": [],
   "source": [
    "one_hot_encoder = OneHotEncoder()"
   ]
  },
  {
   "cell_type": "markdown",
   "metadata": {},
   "source": [
    "Encoding gender"
   ]
  },
  {
   "cell_type": "code",
   "execution_count": 199,
   "metadata": {},
   "outputs": [],
   "source": [
    "gender = df['gender']"
   ]
  },
  {
   "cell_type": "code",
   "execution_count": 200,
   "metadata": {},
   "outputs": [],
   "source": [
    "gender = gender.values"
   ]
  },
  {
   "cell_type": "code",
   "execution_count": 201,
   "metadata": {},
   "outputs": [],
   "source": [
    "gender = gender.reshape(-1, 1)"
   ]
  },
  {
   "cell_type": "code",
   "execution_count": 202,
   "metadata": {},
   "outputs": [],
   "source": [
    "gender_dummy = one_hot_encoder.fit_transform(gender)"
   ]
  },
  {
   "cell_type": "code",
   "execution_count": 203,
   "metadata": {},
   "outputs": [],
   "source": [
    "gender_final = gender_dummy.toarray()"
   ]
  },
  {
   "cell_type": "code",
   "execution_count": 204,
   "metadata": {},
   "outputs": [],
   "source": [
    "gender_final = gender_final[:, 1]"
   ]
  },
  {
   "cell_type": "code",
   "execution_count": 205,
   "metadata": {},
   "outputs": [],
   "source": [
    "gender_final = gender_final.reshape(-1, 1)"
   ]
  },
  {
   "cell_type": "code",
   "execution_count": 206,
   "metadata": {},
   "outputs": [],
   "source": [
    "X = X[:, 1:3]"
   ]
  },
  {
   "cell_type": "code",
   "execution_count": 207,
   "metadata": {},
   "outputs": [],
   "source": [
    "X = np.hstack((X, gender_final))"
   ]
  },
  {
   "cell_type": "markdown",
   "metadata": {},
   "source": [
    "Encoding Parenetal Level Of Education"
   ]
  },
  {
   "cell_type": "code",
   "execution_count": 154,
   "metadata": {},
   "outputs": [],
   "source": [
    "# ple = df['parental_level_of_education']"
   ]
  },
  {
   "cell_type": "code",
   "execution_count": 155,
   "metadata": {},
   "outputs": [],
   "source": [
    "# ple = ple.values"
   ]
  },
  {
   "cell_type": "code",
   "execution_count": 156,
   "metadata": {},
   "outputs": [],
   "source": [
    "# ple = ple.reshape(-1, 1)"
   ]
  },
  {
   "cell_type": "code",
   "execution_count": 157,
   "metadata": {},
   "outputs": [],
   "source": [
    "# ple_dummy = one_hot_encoder.fit_transform(ple)"
   ]
  },
  {
   "cell_type": "code",
   "execution_count": 158,
   "metadata": {},
   "outputs": [],
   "source": [
    "# ple_final = ple_dummy.toarray()"
   ]
  },
  {
   "cell_type": "code",
   "execution_count": 159,
   "metadata": {},
   "outputs": [],
   "source": [
    "# ple_final = ple_final[:, 0:5]"
   ]
  },
  {
   "cell_type": "code",
   "execution_count": 160,
   "metadata": {},
   "outputs": [],
   "source": [
    "# X = X[:, 1:3]"
   ]
  },
  {
   "cell_type": "code",
   "execution_count": 161,
   "metadata": {},
   "outputs": [],
   "source": [
    "# X = np.hstack((X, ple_final))"
   ]
  },
  {
   "cell_type": "markdown",
   "metadata": {},
   "source": [
    "Encoding Test Preparation Course"
   ]
  },
  {
   "cell_type": "code",
   "execution_count": 208,
   "metadata": {},
   "outputs": [],
   "source": [
    "tpc = df['test_preparation_course']"
   ]
  },
  {
   "cell_type": "code",
   "execution_count": 209,
   "metadata": {},
   "outputs": [],
   "source": [
    "tpc = tpc.values"
   ]
  },
  {
   "cell_type": "code",
   "execution_count": 210,
   "metadata": {},
   "outputs": [],
   "source": [
    "tpc = tpc.reshape(-1, 1)"
   ]
  },
  {
   "cell_type": "code",
   "execution_count": 211,
   "metadata": {},
   "outputs": [],
   "source": [
    "tpc_dummy = one_hot_encoder.fit_transform(tpc)"
   ]
  },
  {
   "cell_type": "code",
   "execution_count": 212,
   "metadata": {},
   "outputs": [],
   "source": [
    "tpc_final = tpc_dummy.toarray()"
   ]
  },
  {
   "cell_type": "code",
   "execution_count": 213,
   "metadata": {},
   "outputs": [],
   "source": [
    "tpc_final = tpc_final[:, 0:1]"
   ]
  },
  {
   "cell_type": "code",
   "execution_count": 216,
   "metadata": {},
   "outputs": [],
   "source": [
    "X = X[:, 1:3]"
   ]
  },
  {
   "cell_type": "code",
   "execution_count": 217,
   "metadata": {},
   "outputs": [],
   "source": [
    "X = np.hstack((X, tpc_final))"
   ]
  },
  {
   "cell_type": "code",
   "execution_count": 218,
   "metadata": {},
   "outputs": [
    {
     "data": {
      "text/plain": [
       "(299, 3)"
      ]
     },
     "execution_count": 218,
     "metadata": {},
     "output_type": "execute_result"
    }
   ],
   "source": [
    "X.shape"
   ]
  },
  {
   "cell_type": "code",
   "execution_count": 219,
   "metadata": {},
   "outputs": [
    {
     "data": {
      "text/plain": [
       "array([[6, 0.0, 0.0],\n",
       "       [8, 0.0, 1.0],\n",
       "       [9, 0.0, 0.0],\n",
       "       [8, 1.0, 0.0],\n",
       "       [4, 1.0, 0.0],\n",
       "       [5, 0.0, 0.0],\n",
       "       [6, 0.0, 1.0],\n",
       "       [4, 1.0, 0.0],\n",
       "       [6, 1.0, 1.0],\n",
       "       [5, 0.0, 0.0],\n",
       "       [5, 1.0, 0.0],\n",
       "       [4, 1.0, 0.0],\n",
       "       [7, 0.0, 0.0],\n",
       "       [7, 1.0, 1.0],\n",
       "       [6, 0.0, 0.0],\n",
       "       [7, 0.0, 0.0],\n",
       "       [7, 1.0, 0.0],\n",
       "       [3, 0.0, 0.0],\n",
       "       [4, 1.0, 1.0],\n",
       "       [5, 0.0, 0.0],\n",
       "       [5, 1.0, 0.0],\n",
       "       [5, 0.0, 1.0],\n",
       "       [3, 1.0, 0.0],\n",
       "       [6, 0.0, 0.0],\n",
       "       [8, 1.0, 1.0],\n",
       "       [7, 1.0, 0.0],\n",
       "       [5, 1.0, 0.0],\n",
       "       [5, 0.0, 0.0],\n",
       "       [7, 1.0, 0.0],\n",
       "       [6, 0.0, 0.0],\n",
       "       [6, 0.0, 0.0],\n",
       "       [5, 0.0, 0.0],\n",
       "       [5, 0.0, 0.0],\n",
       "       [3, 1.0, 0.0],\n",
       "       [9, 1.0, 0.0],\n",
       "       [8, 1.0, 1.0],\n",
       "       [8, 0.0, 0.0],\n",
       "       [5, 0.0, 0.0],\n",
       "       [7, 0.0, 1.0],\n",
       "       [6, 1.0, 0.0],\n",
       "       [5, 1.0, 0.0],\n",
       "       [7, 0.0, 0.0],\n",
       "       [5, 0.0, 0.0],\n",
       "       [7, 1.0, 1.0],\n",
       "       [5, 0.0, 0.0],\n",
       "       [5, 1.0, 0.0],\n",
       "       [6, 0.0, 1.0],\n",
       "       [5, 0.0, 0.0],\n",
       "       [6, 0.0, 1.0],\n",
       "       [8, 1.0, 1.0],\n",
       "       [5, 1.0, 0.0],\n",
       "       [6, 1.0, 1.0],\n",
       "       [4, 1.0, 0.0],\n",
       "       [7, 1.0, 0.0],\n",
       "       [7, 0.0, 1.0],\n",
       "       [3, 0.0, 0.0],\n",
       "       [8, 0.0, 1.0],\n",
       "       [4, 1.0, 0.0],\n",
       "       [5, 1.0, 1.0],\n",
       "       [1, 0.0, 0.0],\n",
       "       [7, 1.0, 1.0],\n",
       "       [4, 1.0, 0.0],\n",
       "       [6, 1.0, 0.0],\n",
       "       [6, 0.0, 0.0],\n",
       "       [5, 0.0, 0.0],\n",
       "       [6, 1.0, 0.0],\n",
       "       [3, 1.0, 0.0],\n",
       "       [7, 0.0, 0.0],\n",
       "       [6, 1.0, 0.0],\n",
       "       [4, 0.0, 0.0],\n",
       "       [6, 0.0, 1.0],\n",
       "       [5, 1.0, 1.0],\n",
       "       [3, 0.0, 0.0],\n",
       "       [5, 1.0, 0.0],\n",
       "       [4, 1.0, 0.0],\n",
       "       [4, 1.0, 0.0],\n",
       "       [3, 1.0, 0.0],\n",
       "       [7, 1.0, 1.0],\n",
       "       [6, 0.0, 1.0],\n",
       "       [7, 0.0, 0.0],\n",
       "       [4, 0.0, 0.0],\n",
       "       [5, 1.0, 0.0],\n",
       "       [6, 1.0, 1.0],\n",
       "       [7, 1.0, 0.0],\n",
       "       [4, 1.0, 0.0],\n",
       "       [7, 0.0, 0.0],\n",
       "       [9, 0.0, 0.0],\n",
       "       [6, 0.0, 0.0],\n",
       "       [7, 0.0, 0.0],\n",
       "       [8, 0.0, 0.0],\n",
       "       [6, 0.0, 0.0],\n",
       "       [4, 1.0, 0.0],\n",
       "       [6, 1.0, 0.0],\n",
       "       [5, 1.0, 1.0],\n",
       "       [9, 0.0, 0.0],\n",
       "       [6, 1.0, 1.0],\n",
       "       [6, 1.0, 1.0],\n",
       "       [7, 0.0, 1.0],\n",
       "       [7, 0.0, 0.0],\n",
       "       [6, 0.0, 0.0],\n",
       "       [8, 1.0, 0.0],\n",
       "       [8, 1.0, 1.0],\n",
       "       [9, 0.0, 0.0],\n",
       "       [7, 1.0, 1.0],\n",
       "       [7, 1.0, 1.0],\n",
       "       [8, 0.0, 0.0],\n",
       "       [10, 0.0, 0.0],\n",
       "       [7, 1.0, 1.0],\n",
       "       [6, 0.0, 0.0],\n",
       "       [6, 0.0, 0.0],\n",
       "       [9, 0.0, 1.0],\n",
       "       [6, 1.0, 0.0],\n",
       "       [4, 1.0, 0.0],\n",
       "       [4, 0.0, 0.0],\n",
       "       [10, 0.0, 1.0],\n",
       "       [7, 1.0, 0.0],\n",
       "       [8, 0.0, 0.0],\n",
       "       [5, 0.0, 0.0],\n",
       "       [5, 0.0, 0.0],\n",
       "       [7, 0.0, 0.0],\n",
       "       [9, 0.0, 1.0],\n",
       "       [9, 1.0, 1.0],\n",
       "       [8, 0.0, 1.0],\n",
       "       [5, 1.0, 0.0],\n",
       "       [5, 1.0, 0.0],\n",
       "       [8, 0.0, 0.0],\n",
       "       [7, 1.0, 0.0],\n",
       "       [7, 1.0, 1.0],\n",
       "       [9, 1.0, 0.0],\n",
       "       [5, 0.0, 0.0],\n",
       "       [8, 1.0, 0.0],\n",
       "       [4, 1.0, 1.0],\n",
       "       [8, 1.0, 1.0],\n",
       "       [8, 0.0, 1.0],\n",
       "       [7, 1.0, 1.0],\n",
       "       [6, 1.0, 0.0],\n",
       "       [5, 1.0, 1.0],\n",
       "       [7, 1.0, 0.0],\n",
       "       [7, 0.0, 0.0],\n",
       "       [6, 1.0, 1.0],\n",
       "       [7, 0.0, 0.0],\n",
       "       [5, 0.0, 0.0],\n",
       "       [4, 0.0, 1.0],\n",
       "       [4, 1.0, 0.0],\n",
       "       [7, 1.0, 0.0],\n",
       "       [3, 0.0, 0.0],\n",
       "       [7, 1.0, 0.0],\n",
       "       [6, 1.0, 0.0],\n",
       "       [6, 0.0, 1.0],\n",
       "       [10, 1.0, 1.0],\n",
       "       [6, 1.0, 1.0],\n",
       "       [7, 1.0, 0.0],\n",
       "       [7, 0.0, 1.0],\n",
       "       [5, 1.0, 0.0],\n",
       "       [6, 1.0, 0.0],\n",
       "       [9, 0.0, 1.0],\n",
       "       [7, 0.0, 1.0],\n",
       "       [5, 1.0, 0.0],\n",
       "       [5, 0.0, 1.0],\n",
       "       [4, 1.0, 0.0],\n",
       "       [7, 1.0, 1.0],\n",
       "       [8, 0.0, 1.0],\n",
       "       [6, 1.0, 0.0],\n",
       "       [7, 1.0, 0.0],\n",
       "       [8, 0.0, 0.0],\n",
       "       [10, 0.0, 1.0],\n",
       "       [5, 1.0, 1.0],\n",
       "       [6, 0.0, 1.0],\n",
       "       [7, 0.0, 1.0],\n",
       "       [7, 0.0, 1.0],\n",
       "       [7, 1.0, 1.0],\n",
       "       [9, 1.0, 0.0],\n",
       "       [7, 0.0, 0.0],\n",
       "       [6, 0.0, 0.0],\n",
       "       [4, 0.0, 1.0],\n",
       "       [8, 0.0, 1.0],\n",
       "       [6, 0.0, 1.0],\n",
       "       [6, 0.0, 1.0],\n",
       "       [4, 0.0, 1.0],\n",
       "       [9, 0.0, 1.0],\n",
       "       [5, 1.0, 1.0],\n",
       "       [4, 0.0, 0.0],\n",
       "       [5, 0.0, 0.0],\n",
       "       [5, 0.0, 0.0],\n",
       "       [4, 1.0, 1.0],\n",
       "       [5, 1.0, 1.0],\n",
       "       [7, 1.0, 0.0],\n",
       "       [6, 1.0, 1.0],\n",
       "       [5, 1.0, 0.0],\n",
       "       [8, 0.0, 0.0],\n",
       "       [5, 0.0, 0.0],\n",
       "       [7, 1.0, 1.0],\n",
       "       [6, 0.0, 0.0],\n",
       "       [6, 1.0, 1.0],\n",
       "       [6, 0.0, 1.0],\n",
       "       [5, 1.0, 0.0],\n",
       "       [6, 1.0, 1.0],\n",
       "       [4, 1.0, 0.0],\n",
       "       [5, 0.0, 0.0],\n",
       "       [6, 0.0, 0.0],\n",
       "       [7, 0.0, 1.0],\n",
       "       [7, 0.0, 0.0],\n",
       "       [6, 1.0, 0.0],\n",
       "       [5, 0.0, 0.0],\n",
       "       [6, 1.0, 0.0],\n",
       "       [6, 1.0, 1.0],\n",
       "       [6, 1.0, 0.0],\n",
       "       [8, 1.0, 1.0],\n",
       "       [7, 0.0, 0.0],\n",
       "       [4, 0.0, 0.0],\n",
       "       [8, 1.0, 1.0],\n",
       "       [3, 1.0, 0.0],\n",
       "       [5, 0.0, 0.0],\n",
       "       [5, 1.0, 1.0],\n",
       "       [9, 1.0, 1.0],\n",
       "       [8, 1.0, 1.0],\n",
       "       [9, 0.0, 1.0],\n",
       "       [3, 0.0, 0.0],\n",
       "       [6, 1.0, 0.0],\n",
       "       [4, 1.0, 1.0],\n",
       "       [6, 0.0, 1.0],\n",
       "       [8, 1.0, 0.0],\n",
       "       [4, 0.0, 0.0],\n",
       "       [9, 1.0, 0.0],\n",
       "       [5, 0.0, 1.0],\n",
       "       [4, 0.0, 0.0],\n",
       "       [6, 0.0, 0.0],\n",
       "       [5, 1.0, 0.0],\n",
       "       [5, 1.0, 0.0],\n",
       "       [9, 0.0, 1.0],\n",
       "       [7, 1.0, 0.0],\n",
       "       [4, 1.0, 0.0],\n",
       "       [7, 0.0, 0.0],\n",
       "       [7, 1.0, 0.0],\n",
       "       [6, 1.0, 1.0],\n",
       "       [8, 1.0, 0.0],\n",
       "       [5, 1.0, 0.0],\n",
       "       [5, 0.0, 1.0],\n",
       "       [4, 1.0, 0.0],\n",
       "       [6, 1.0, 0.0],\n",
       "       [8, 1.0, 1.0],\n",
       "       [8, 0.0, 0.0],\n",
       "       [5, 0.0, 0.0],\n",
       "       [5, 1.0, 0.0],\n",
       "       [5, 1.0, 0.0],\n",
       "       [8, 1.0, 0.0],\n",
       "       [8, 1.0, 0.0],\n",
       "       [6, 0.0, 1.0],\n",
       "       [7, 0.0, 0.0],\n",
       "       [5, 1.0, 0.0],\n",
       "       [6, 1.0, 1.0],\n",
       "       [8, 0.0, 0.0],\n",
       "       [8, 0.0, 1.0],\n",
       "       [9, 1.0, 0.0],\n",
       "       [6, 1.0, 0.0],\n",
       "       [6, 0.0, 0.0],\n",
       "       [7, 0.0, 0.0],\n",
       "       [6, 1.0, 1.0],\n",
       "       [7, 0.0, 0.0],\n",
       "       [8, 0.0, 1.0],\n",
       "       [8, 0.0, 1.0],\n",
       "       [5, 1.0, 1.0],\n",
       "       [6, 1.0, 0.0],\n",
       "       [8, 1.0, 0.0],\n",
       "       [6, 1.0, 0.0],\n",
       "       [6, 1.0, 0.0],\n",
       "       [8, 1.0, 0.0],\n",
       "       [7, 1.0, 0.0],\n",
       "       [9, 1.0, 1.0],\n",
       "       [5, 1.0, 0.0],\n",
       "       [6, 1.0, 0.0],\n",
       "       [5, 1.0, 0.0],\n",
       "       [5, 1.0, 0.0],\n",
       "       [6, 1.0, 0.0],\n",
       "       [7, 1.0, 1.0],\n",
       "       [6, 1.0, 0.0],\n",
       "       [6, 1.0, 1.0],\n",
       "       [5, 1.0, 1.0],\n",
       "       [6, 1.0, 0.0],\n",
       "       [5, 1.0, 0.0],\n",
       "       [5, 1.0, 0.0],\n",
       "       [4, 1.0, 0.0],\n",
       "       [7, 1.0, 0.0],\n",
       "       [7, 1.0, 1.0],\n",
       "       [6, 1.0, 0.0],\n",
       "       [5, 1.0, 1.0],\n",
       "       [8, 1.0, 1.0],\n",
       "       [8, 1.0, 0.0],\n",
       "       [6, 1.0, 0.0],\n",
       "       [7, 1.0, 1.0],\n",
       "       [7, 1.0, 0.0],\n",
       "       [8, 1.0, 0.0],\n",
       "       [6, 1.0, 1.0],\n",
       "       [6, 1.0, 0.0],\n",
       "       [7, 1.0, 1.0],\n",
       "       [4, 1.0, 0.0],\n",
       "       [6, 1.0, 1.0],\n",
       "       [8, 1.0, 1.0],\n",
       "       [4, 1.0, 1.0]], dtype=object)"
      ]
     },
     "execution_count": 219,
     "metadata": {},
     "output_type": "execute_result"
    }
   ],
   "source": [
    "# X['hrs_study_before_exam', 'gender', 'test_preparation_course']\n",
    "X"
   ]
  },
  {
   "cell_type": "markdown",
   "metadata": {},
   "source": [
    "Train the model"
   ]
  },
  {
   "cell_type": "code",
   "execution_count": 220,
   "metadata": {},
   "outputs": [],
   "source": [
    "from sklearn.linear_model import LinearRegression"
   ]
  },
  {
   "cell_type": "code",
   "execution_count": 221,
   "metadata": {},
   "outputs": [],
   "source": [
    "model = LinearRegression()"
   ]
  },
  {
   "cell_type": "code",
   "execution_count": 222,
   "metadata": {},
   "outputs": [
    {
     "data": {
      "text/plain": [
       "LinearRegression(copy_X=True, fit_intercept=True, n_jobs=None, normalize=False)"
      ]
     },
     "execution_count": 222,
     "metadata": {},
     "output_type": "execute_result"
    }
   ],
   "source": [
    "model.fit(X, y)"
   ]
  },
  {
   "cell_type": "code",
   "execution_count": 223,
   "metadata": {},
   "outputs": [
    {
     "data": {
      "text/plain": [
       "array([22.18808977, -6.21887527,  6.59371327])"
      ]
     },
     "execution_count": 223,
     "metadata": {},
     "output_type": "execute_result"
    }
   ],
   "source": [
    "model.coef_"
   ]
  },
  {
   "cell_type": "markdown",
   "metadata": {},
   "source": [
    "Predicting using model"
   ]
  },
  {
   "cell_type": "code",
   "execution_count": 235,
   "metadata": {},
   "outputs": [
    {
     "data": {
      "text/plain": [
       "array([287.62112783])"
      ]
     },
     "execution_count": 235,
     "metadata": {},
     "output_type": "execute_result"
    }
   ],
   "source": [
    "model.predict([[10, 1, 1]])"
   ]
  },
  {
   "cell_type": "code",
   "execution_count": null,
   "metadata": {},
   "outputs": [],
   "source": []
  }
 ],
 "metadata": {
  "kernelspec": {
   "display_name": "Python 3",
   "language": "python",
   "name": "python3"
  },
  "language_info": {
   "codemirror_mode": {
    "name": "ipython",
    "version": 3
   },
   "file_extension": ".py",
   "mimetype": "text/x-python",
   "name": "python",
   "nbconvert_exporter": "python",
   "pygments_lexer": "ipython3",
   "version": "3.7.4"
  }
 },
 "nbformat": 4,
 "nbformat_minor": 2
}
